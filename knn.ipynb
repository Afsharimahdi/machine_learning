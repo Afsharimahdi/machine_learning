{
  "cells": [
    {
      "cell_type": "markdown",
      "source": [
        "#KNN\n",
        "This notebook contains:\n",
        "1. Iris (classifier)\n",
        "2. Persian Banking Cards' Digits (classifier)\n",
        "3. Advertising (Regressor)\n",
        "\n",
        "https://en.wikipedia.org/wiki/K-nearest_neighbors_algorithm\n",
        "\n",
        "* k-NN is used for classification or regression.\n",
        "* In k-NN **classification**, the output is a class membership. An object is classified by a *plurality vote* of its neighbors, with the object being assigned to the class most common among its k nearest neighbors.\n",
        "* In k-NN **regression**, the output is the property value for the object. This value is the *average* of the values of k nearest neighbors."
      ],
      "metadata": {
        "id": "ECpJ_Z8_-yEp"
      }
    },
    {
      "cell_type": "markdown",
      "source": [
        "##Dimension reduction\n",
        "For high-dimensional data (e.g., with number of dimensions more than 10) dimension reduction is usually performed prior to applying the k-NN algorithm in order to avoid the effects of the curse of dimensionality.\n",
        "\n",
        "The curse of dimensionality in the k-NN context basically means that Euclidean distance is unhelpful in high dimensions because all vectors are almost equidistant to the search query vector "
      ],
      "metadata": {
        "id": "3_Jpli3OCz4c"
      }
    },
    {
      "cell_type": "markdown",
      "source": [
        "```python\n",
        "# Importing necessary libraries\n",
        "import os\n",
        "import pandas as pd\n",
        "import numpy as np\n",
        "import matplotlib.pyplot as plt\n",
        "from sklearn.model_selection import train_test_split\n",
        "from scipy.stats import mode\n",
        "from sklearn.neighbors import KNeighborsClassifier\n",
        "from sklearn.metrics import classification_report\n",
        "from sklearn.neighbors import KNeighborsRegressor\n",
        "from sklearn.metrics import mean_squared_error\n",
        "from sklearn.metrics import r2_score\n",
        "from sklearn.model_selection import cross_val_score\n",
        "```\n",
        "\n",
        "The above code snippet is importing various libraries and modules that are required for the subsequent code. Here's a breakdown of each import statement:\n",
        "\n",
        "1. `import os`: This library provides functions for interacting with the operating system. It may be used for tasks like file and directory operations.\n",
        "\n",
        "2. `import pandas as pd`: This library is used for data manipulation and analysis. It provides data structures and functions for efficiently handling structured data.\n",
        "\n",
        "3. `import numpy as np`: This library is commonly used for numerical computing in Python. It provides a high-performance multidimensional array object and various tools for working with arrays.\n",
        "\n",
        "4. `import matplotlib.pyplot as plt`: This library is a popular plotting library in Python. It provides a MATLAB-like interface for creating a variety of plots and visualizations.\n",
        "\n",
        "5. `from sklearn.model_selection import train_test_split`: This module provides a function for splitting datasets into random train and test subsets. It is commonly used for evaluating machine learning models.\n",
        "\n",
        "6. `from scipy.stats import mode`: This module provides statistical functions and tools. In this case, it is importing the `mode` function, which calculates the mode (most common value) of an array.\n",
        "\n",
        "7. `from sklearn.neighbors import KNeighborsClassifier`: This module provides a K-nearest neighbors classifier implementation. K-nearest neighbors is a simple and popular machine learning algorithm used for classification tasks.\n",
        "\n",
        "8. `from sklearn.metrics import classification_report`: This module provides a function to generate a text-based report of the main classification metrics. It is useful for evaluating the performance of a classification model.\n",
        "\n",
        "9. `from sklearn.neighbors import KNeighborsRegressor`: This module provides a K-nearest neighbors regressor implementation. K-nearest neighbors can also be used for regression tasks.\n",
        "\n",
        "10. `from sklearn.metrics import mean_squared_error`: This module provides a function to calculate the mean squared error, which is a common metric for evaluating regression models.\n",
        "\n",
        "11. `from sklearn.metrics import r2_score`: This module provides a function to calculate the R-squared score, which measures the goodness-of-fit of a regression model.\n",
        "\n",
        "12. `from sklearn.model_selection import cross_val_score`: This module provides a function for performing cross-validation, a technique used to assess the performance and generalization ability of a model.\n",
        "\n",
        "Importing these libraries and modules is important because they provide the necessary tools and functions to perform various data analysis, machine learning, and evaluation tasks in the subsequent code."
      ],
      "metadata": {
        "id": "c9DDPFgFAX_w"
      }
    },
    {
      "cell_type": "code",
      "execution_count": null,
      "metadata": {
        "id": "lIYdn1woOS1n"
      },
      "outputs": [],
      "source": [
        "import os\n",
        "import pandas as pd\n",
        "import numpy as np\n",
        "import matplotlib.pyplot as plt\n",
        "\n",
        "from sklearn.model_selection import train_test_split\n",
        "from scipy.stats import mode\n",
        "\n",
        "from sklearn.neighbors import KNeighborsClassifier\n",
        "from sklearn.metrics import classification_report\n",
        "\n",
        "from sklearn.neighbors import KNeighborsRegressor\n",
        "from sklearn.metrics import mean_squared_error\n",
        "from sklearn.metrics import r2_score\n",
        "\n",
        "from sklearn.model_selection import cross_val_score"
      ]
    },
    {
      "cell_type": "markdown",
      "source": [
        "```python\n",
        "# Download data\n",
        "!gdown --id 1vZaPbRhfel2Y1uD5U0vi0zjCu58yYvS_\n",
        "```\n",
        "\n",
        "This section of code is responsible for downloading data from Google Drive using the `gdown` command. The `--id` flag specifies the ID of the file to be downloaded. In this case, the file ID is `1vZaPbRhfel2Y1uD5U0vi0zjCu58yYvS_`. \n",
        "\n",
        "The exclamation mark (`!`) at the beginning of the line is used in Jupyter Notebook or Colab environments to execute shell commands within the notebook.\n",
        "\n",
        "Downloading the data is an important step in many data-related tasks. It allows the code to access and work with the required data for further processing or analysis. In this case, the specific purpose of the downloaded data is not evident from the given code snippet, but it could be part of a larger data processing or machine learning pipeline."
      ],
      "metadata": {
        "id": "FViasX7zAwGI"
      }
    },
    {
      "cell_type": "code",
      "source": [
        "#Download data\n",
        "!gdown --id 1vZaPbRhfel2Y1uD5U0vi0zjCu58yYvS_"
      ],
      "metadata": {
        "id": "YRQz76t3RqcZ",
        "colab": {
          "base_uri": "https://localhost:8080/"
        },
        "outputId": "36e7316a-e9c2-46cc-a0ec-e628c8b1e068"
      },
      "execution_count": null,
      "outputs": [
        {
          "output_type": "stream",
          "name": "stdout",
          "text": [
            "/usr/local/lib/python3.10/dist-packages/gdown/cli.py:121: FutureWarning: Option `--id` was deprecated in version 4.3.1 and will be removed in 5.0. You don't need to pass it anymore to use a file ID.\n",
            "  warnings.warn(\n",
            "Downloading...\n",
            "From: https://drive.google.com/uc?id=1vZaPbRhfel2Y1uD5U0vi0zjCu58yYvS_\n",
            "To: /content/Iris.csv\n",
            "100% 5.11k/5.11k [00:00<00:00, 22.4MB/s]\n"
          ]
        }
      ]
    },
    {
      "cell_type": "markdown",
      "source": [
        "```python\n",
        "# Import the necessary library\n",
        "import pandas as pd\n",
        "\n",
        "# Read the CSV file and store it in a variable called 'df'\n",
        "df = pd.read_csv('Iris.csv')\n",
        "```\n",
        "\n",
        "This section of code imports the pandas library, which is a popular data manipulation and analysis library in Python. The `pd` alias is commonly used to refer to the pandas module.\n",
        "\n",
        "The code then uses the `read_csv` function from the pandas library to read a CSV file named 'Iris.csv'. The file is read and converted into a pandas DataFrame, a two-dimensional tabular data structure that can store and manipulate data.\n",
        "\n",
        "The resulting DataFrame is stored in a variable named 'df'. The 'df' variable is commonly used as an abbreviation for \"data frame\" in pandas and is a convention often followed by programmers working with pandas. The DataFrame will contain the data from the CSV file, allowing further analysis and manipulation of the data using pandas functions and methods."
      ],
      "metadata": {
        "id": "qdT2qgXcBFGJ"
      }
    },
    {
      "cell_type": "code",
      "source": [
        "#read csv file\n",
        "df = pd.read_csv('Iris.csv')"
      ],
      "metadata": {
        "id": "_oz75WfWRpSz"
      },
      "execution_count": null,
      "outputs": []
    },
    {
      "cell_type": "markdown",
      "source": [
        "```python\n",
        "# Check how data looks\n",
        "df.head(1)\n",
        "```\n",
        "\n",
        "This code is used to inspect the structure and content of a DataFrame called `df`. The `head()` method is called with an argument of 1, which returns the first row of the DataFrame. This allows us to quickly examine the data and get a sense of its format, column names, and values. It is important to check the data to ensure it matches our expectations and to identify any potential issues or anomalies."
      ],
      "metadata": {
        "id": "qAtu1e1mBP9i"
      }
    },
    {
      "cell_type": "code",
      "source": [
        "#check how data looks\n",
        "df.head(1)"
      ],
      "metadata": {
        "id": "Y4PrlCDPSAB7",
        "colab": {
          "base_uri": "https://localhost:8080/",
          "height": 81
        },
        "outputId": "65a2b6c1-d1b2-47bc-8b11-50acd23157cd"
      },
      "execution_count": null,
      "outputs": [
        {
          "output_type": "execute_result",
          "data": {
            "text/plain": [
              "   Id  SepalLengthCm  SepalWidthCm  PetalLengthCm  PetalWidthCm      Species\n",
              "0   1            5.1           3.5            1.4           0.2  Iris-setosa"
            ],
            "text/html": [
              "\n",
              "  <div id=\"df-6c5b093d-23bb-4ac9-ac3a-3e50426b984a\">\n",
              "    <div class=\"colab-df-container\">\n",
              "      <div>\n",
              "<style scoped>\n",
              "    .dataframe tbody tr th:only-of-type {\n",
              "        vertical-align: middle;\n",
              "    }\n",
              "\n",
              "    .dataframe tbody tr th {\n",
              "        vertical-align: top;\n",
              "    }\n",
              "\n",
              "    .dataframe thead th {\n",
              "        text-align: right;\n",
              "    }\n",
              "</style>\n",
              "<table border=\"1\" class=\"dataframe\">\n",
              "  <thead>\n",
              "    <tr style=\"text-align: right;\">\n",
              "      <th></th>\n",
              "      <th>Id</th>\n",
              "      <th>SepalLengthCm</th>\n",
              "      <th>SepalWidthCm</th>\n",
              "      <th>PetalLengthCm</th>\n",
              "      <th>PetalWidthCm</th>\n",
              "      <th>Species</th>\n",
              "    </tr>\n",
              "  </thead>\n",
              "  <tbody>\n",
              "    <tr>\n",
              "      <th>0</th>\n",
              "      <td>1</td>\n",
              "      <td>5.1</td>\n",
              "      <td>3.5</td>\n",
              "      <td>1.4</td>\n",
              "      <td>0.2</td>\n",
              "      <td>Iris-setosa</td>\n",
              "    </tr>\n",
              "  </tbody>\n",
              "</table>\n",
              "</div>\n",
              "      <button class=\"colab-df-convert\" onclick=\"convertToInteractive('df-6c5b093d-23bb-4ac9-ac3a-3e50426b984a')\"\n",
              "              title=\"Convert this dataframe to an interactive table.\"\n",
              "              style=\"display:none;\">\n",
              "        \n",
              "  <svg xmlns=\"http://www.w3.org/2000/svg\" height=\"24px\"viewBox=\"0 0 24 24\"\n",
              "       width=\"24px\">\n",
              "    <path d=\"M0 0h24v24H0V0z\" fill=\"none\"/>\n",
              "    <path d=\"M18.56 5.44l.94 2.06.94-2.06 2.06-.94-2.06-.94-.94-2.06-.94 2.06-2.06.94zm-11 1L8.5 8.5l.94-2.06 2.06-.94-2.06-.94L8.5 2.5l-.94 2.06-2.06.94zm10 10l.94 2.06.94-2.06 2.06-.94-2.06-.94-.94-2.06-.94 2.06-2.06.94z\"/><path d=\"M17.41 7.96l-1.37-1.37c-.4-.4-.92-.59-1.43-.59-.52 0-1.04.2-1.43.59L10.3 9.45l-7.72 7.72c-.78.78-.78 2.05 0 2.83L4 21.41c.39.39.9.59 1.41.59.51 0 1.02-.2 1.41-.59l7.78-7.78 2.81-2.81c.8-.78.8-2.07 0-2.86zM5.41 20L4 18.59l7.72-7.72 1.47 1.35L5.41 20z\"/>\n",
              "  </svg>\n",
              "      </button>\n",
              "      \n",
              "  <style>\n",
              "    .colab-df-container {\n",
              "      display:flex;\n",
              "      flex-wrap:wrap;\n",
              "      gap: 12px;\n",
              "    }\n",
              "\n",
              "    .colab-df-convert {\n",
              "      background-color: #E8F0FE;\n",
              "      border: none;\n",
              "      border-radius: 50%;\n",
              "      cursor: pointer;\n",
              "      display: none;\n",
              "      fill: #1967D2;\n",
              "      height: 32px;\n",
              "      padding: 0 0 0 0;\n",
              "      width: 32px;\n",
              "    }\n",
              "\n",
              "    .colab-df-convert:hover {\n",
              "      background-color: #E2EBFA;\n",
              "      box-shadow: 0px 1px 2px rgba(60, 64, 67, 0.3), 0px 1px 3px 1px rgba(60, 64, 67, 0.15);\n",
              "      fill: #174EA6;\n",
              "    }\n",
              "\n",
              "    [theme=dark] .colab-df-convert {\n",
              "      background-color: #3B4455;\n",
              "      fill: #D2E3FC;\n",
              "    }\n",
              "\n",
              "    [theme=dark] .colab-df-convert:hover {\n",
              "      background-color: #434B5C;\n",
              "      box-shadow: 0px 1px 3px 1px rgba(0, 0, 0, 0.15);\n",
              "      filter: drop-shadow(0px 1px 2px rgba(0, 0, 0, 0.3));\n",
              "      fill: #FFFFFF;\n",
              "    }\n",
              "  </style>\n",
              "\n",
              "      <script>\n",
              "        const buttonEl =\n",
              "          document.querySelector('#df-6c5b093d-23bb-4ac9-ac3a-3e50426b984a button.colab-df-convert');\n",
              "        buttonEl.style.display =\n",
              "          google.colab.kernel.accessAllowed ? 'block' : 'none';\n",
              "\n",
              "        async function convertToInteractive(key) {\n",
              "          const element = document.querySelector('#df-6c5b093d-23bb-4ac9-ac3a-3e50426b984a');\n",
              "          const dataTable =\n",
              "            await google.colab.kernel.invokeFunction('convertToInteractive',\n",
              "                                                     [key], {});\n",
              "          if (!dataTable) return;\n",
              "\n",
              "          const docLinkHtml = 'Like what you see? Visit the ' +\n",
              "            '<a target=\"_blank\" href=https://colab.research.google.com/notebooks/data_table.ipynb>data table notebook</a>'\n",
              "            + ' to learn more about interactive tables.';\n",
              "          element.innerHTML = '';\n",
              "          dataTable['output_type'] = 'display_data';\n",
              "          await google.colab.output.renderOutput(dataTable, element);\n",
              "          const docLink = document.createElement('div');\n",
              "          docLink.innerHTML = docLinkHtml;\n",
              "          element.appendChild(docLink);\n",
              "        }\n",
              "      </script>\n",
              "    </div>\n",
              "  </div>\n",
              "  "
            ]
          },
          "metadata": {},
          "execution_count": 7
        }
      ]
    },
    {
      "cell_type": "markdown",
      "source": [
        "1\n",
        "2\n",
        "# Change the target column to categorical data type\n",
        "target = df['Species'].astype('category')\n",
        "\n",
        "The code above is responsible for converting the \"Species\" column in the DataFrame `df` to a categorical data type and assigning the result to the variable `target`. Categorical data type is used to represent data that has a limited number of possible values or categories. This conversion is important when working with classification tasks, as it allows the machine learning algorithm to understand that the target variable is a discrete set of categories rather than continuous numerical values. By converting the target variable to categorical, we enable the algorithm to properly handle and interpret the target variable during model training."
      ],
      "metadata": {
        "id": "Kj1ZEn-oBgAp"
      }
    },
    {
      "cell_type": "code",
      "source": [
        "#change the target to categorical\n",
        "target = df['Species'].astype('category') "
      ],
      "metadata": {
        "id": "Ct0XoATMSY85"
      },
      "execution_count": null,
      "outputs": []
    },
    {
      "cell_type": "markdown",
      "source": [
        "# Convert categorical data to numerical codes\n",
        "# The 'target' variable is a categorical feature\n",
        "# By using the '.cat.codes' method, each unique category in 'target' will be assigned a numerical code\n",
        "# This is important because many machine learning algorithms require numerical input, not categorical\n",
        "# By converting the categories to numerical codes, we can use 'target' as input in these algorithms\n",
        "\n",
        "2\n",
        "X_train, X_test, y_train, y_test = train_test_split(features, target, test_size=0.2, random_state=42)"
      ],
      "metadata": {
        "id": "pHANtnlrCPRQ"
      }
    },
    {
      "cell_type": "code",
      "source": [
        "target = target.cat.codes"
      ],
      "metadata": {
        "id": "L4WctB8xTPBE"
      },
      "execution_count": null,
      "outputs": []
    },
    {
      "cell_type": "markdown",
      "source": [
        "```python\n",
        "# Drop the extra columns\n",
        "df = df.drop(columns=['Id', 'Species'], axis=1)\n",
        "```\n",
        "\n",
        "This section of code is responsible for dropping the 'Id' and 'Species' columns from the DataFrame called 'df'. \n",
        "\n",
        "The `drop` method is used to remove specified columns from a DataFrame. In this case, we pass a list of column names ['Id', 'Species'] to the `columns` parameter of the `drop` method. The `axis=1` parameter indicates that we want to drop columns (as opposed to rows, which would be indicated by `axis=0`).\n",
        "\n",
        "This operation is important if the 'Id' and 'Species' columns are not needed for the subsequent analysis or if they contain irrelevant or redundant information. Removing unnecessary columns can help reduce memory usage, simplify the data structure, and improve computational efficiency."
      ],
      "metadata": {
        "id": "-YK0aoi7CcuQ"
      }
    },
    {
      "cell_type": "code",
      "source": [
        "#drop the extra columns\n",
        "df = df.drop(columns=['Id', 'Species'], axis=1)"
      ],
      "metadata": {
        "id": "WzOK-50WR7Rz"
      },
      "execution_count": null,
      "outputs": []
    },
    {
      "cell_type": "markdown",
      "source": [
        "# Check the feature table again\n",
        "# The code is accessing the 'head' method of the dataframe (df) to display the first row of the table.\n",
        "# This is important for quickly inspecting the structure and contents of the dataframe, especially after performing any transformations or modifications on the data. It helps in verifying that the data is correctly loaded and processed before proceeding with further analysis or operations."
      ],
      "metadata": {
        "id": "M8iKlOV3CsVQ"
      }
    },
    {
      "cell_type": "code",
      "source": [
        "#check again the feature table\n",
        "df.head(1)"
      ],
      "metadata": {
        "id": "pIReIpbNSB-S",
        "colab": {
          "base_uri": "https://localhost:8080/",
          "height": 81
        },
        "outputId": "4a5fd3e6-ba7b-4f46-9da5-cf806abcb594"
      },
      "execution_count": null,
      "outputs": [
        {
          "output_type": "execute_result",
          "data": {
            "text/plain": [
              "   SepalLengthCm  SepalWidthCm  PetalLengthCm  PetalWidthCm\n",
              "0            5.1           3.5            1.4           0.2"
            ],
            "text/html": [
              "\n",
              "  <div id=\"df-b01289a4-4b93-4e4e-b465-51a57c73a8ac\">\n",
              "    <div class=\"colab-df-container\">\n",
              "      <div>\n",
              "<style scoped>\n",
              "    .dataframe tbody tr th:only-of-type {\n",
              "        vertical-align: middle;\n",
              "    }\n",
              "\n",
              "    .dataframe tbody tr th {\n",
              "        vertical-align: top;\n",
              "    }\n",
              "\n",
              "    .dataframe thead th {\n",
              "        text-align: right;\n",
              "    }\n",
              "</style>\n",
              "<table border=\"1\" class=\"dataframe\">\n",
              "  <thead>\n",
              "    <tr style=\"text-align: right;\">\n",
              "      <th></th>\n",
              "      <th>SepalLengthCm</th>\n",
              "      <th>SepalWidthCm</th>\n",
              "      <th>PetalLengthCm</th>\n",
              "      <th>PetalWidthCm</th>\n",
              "    </tr>\n",
              "  </thead>\n",
              "  <tbody>\n",
              "    <tr>\n",
              "      <th>0</th>\n",
              "      <td>5.1</td>\n",
              "      <td>3.5</td>\n",
              "      <td>1.4</td>\n",
              "      <td>0.2</td>\n",
              "    </tr>\n",
              "  </tbody>\n",
              "</table>\n",
              "</div>\n",
              "      <button class=\"colab-df-convert\" onclick=\"convertToInteractive('df-b01289a4-4b93-4e4e-b465-51a57c73a8ac')\"\n",
              "              title=\"Convert this dataframe to an interactive table.\"\n",
              "              style=\"display:none;\">\n",
              "        \n",
              "  <svg xmlns=\"http://www.w3.org/2000/svg\" height=\"24px\"viewBox=\"0 0 24 24\"\n",
              "       width=\"24px\">\n",
              "    <path d=\"M0 0h24v24H0V0z\" fill=\"none\"/>\n",
              "    <path d=\"M18.56 5.44l.94 2.06.94-2.06 2.06-.94-2.06-.94-.94-2.06-.94 2.06-2.06.94zm-11 1L8.5 8.5l.94-2.06 2.06-.94-2.06-.94L8.5 2.5l-.94 2.06-2.06.94zm10 10l.94 2.06.94-2.06 2.06-.94-2.06-.94-.94-2.06-.94 2.06-2.06.94z\"/><path d=\"M17.41 7.96l-1.37-1.37c-.4-.4-.92-.59-1.43-.59-.52 0-1.04.2-1.43.59L10.3 9.45l-7.72 7.72c-.78.78-.78 2.05 0 2.83L4 21.41c.39.39.9.59 1.41.59.51 0 1.02-.2 1.41-.59l7.78-7.78 2.81-2.81c.8-.78.8-2.07 0-2.86zM5.41 20L4 18.59l7.72-7.72 1.47 1.35L5.41 20z\"/>\n",
              "  </svg>\n",
              "      </button>\n",
              "      \n",
              "  <style>\n",
              "    .colab-df-container {\n",
              "      display:flex;\n",
              "      flex-wrap:wrap;\n",
              "      gap: 12px;\n",
              "    }\n",
              "\n",
              "    .colab-df-convert {\n",
              "      background-color: #E8F0FE;\n",
              "      border: none;\n",
              "      border-radius: 50%;\n",
              "      cursor: pointer;\n",
              "      display: none;\n",
              "      fill: #1967D2;\n",
              "      height: 32px;\n",
              "      padding: 0 0 0 0;\n",
              "      width: 32px;\n",
              "    }\n",
              "\n",
              "    .colab-df-convert:hover {\n",
              "      background-color: #E2EBFA;\n",
              "      box-shadow: 0px 1px 2px rgba(60, 64, 67, 0.3), 0px 1px 3px 1px rgba(60, 64, 67, 0.15);\n",
              "      fill: #174EA6;\n",
              "    }\n",
              "\n",
              "    [theme=dark] .colab-df-convert {\n",
              "      background-color: #3B4455;\n",
              "      fill: #D2E3FC;\n",
              "    }\n",
              "\n",
              "    [theme=dark] .colab-df-convert:hover {\n",
              "      background-color: #434B5C;\n",
              "      box-shadow: 0px 1px 3px 1px rgba(0, 0, 0, 0.15);\n",
              "      filter: drop-shadow(0px 1px 2px rgba(0, 0, 0, 0.3));\n",
              "      fill: #FFFFFF;\n",
              "    }\n",
              "  </style>\n",
              "\n",
              "      <script>\n",
              "        const buttonEl =\n",
              "          document.querySelector('#df-b01289a4-4b93-4e4e-b465-51a57c73a8ac button.colab-df-convert');\n",
              "        buttonEl.style.display =\n",
              "          google.colab.kernel.accessAllowed ? 'block' : 'none';\n",
              "\n",
              "        async function convertToInteractive(key) {\n",
              "          const element = document.querySelector('#df-b01289a4-4b93-4e4e-b465-51a57c73a8ac');\n",
              "          const dataTable =\n",
              "            await google.colab.kernel.invokeFunction('convertToInteractive',\n",
              "                                                     [key], {});\n",
              "          if (!dataTable) return;\n",
              "\n",
              "          const docLinkHtml = 'Like what you see? Visit the ' +\n",
              "            '<a target=\"_blank\" href=https://colab.research.google.com/notebooks/data_table.ipynb>data table notebook</a>'\n",
              "            + ' to learn more about interactive tables.';\n",
              "          element.innerHTML = '';\n",
              "          dataTable['output_type'] = 'display_data';\n",
              "          await google.colab.output.renderOutput(dataTable, element);\n",
              "          const docLink = document.createElement('div');\n",
              "          docLink.innerHTML = docLinkHtml;\n",
              "          element.appendChild(docLink);\n",
              "        }\n",
              "      </script>\n",
              "    </div>\n",
              "  </div>\n",
              "  "
            ]
          },
          "metadata": {},
          "execution_count": 11
        }
      ]
    },
    {
      "cell_type": "markdown",
      "source": [
        "```python\n",
        "1\n",
        "2\n",
        "# train-test split\n",
        "X_train, X_test, y_train, y_test = train_test_split(df, target, test_size=0.3)\n",
        "```\n",
        "\n",
        "This section of code performs a train-test split of the data. It is important to split the data into separate sets for training and testing in order to evaluate the performance of a machine learning model accurately.\n",
        "\n",
        "The code assigns four variables: `X_train`, `X_test`, `y_train`, and `y_test`. These variables represent the training and testing data for the features (`X`) and the target variable (`y`). \n",
        "\n",
        "The `train_test_split` function is typically provided by a machine learning library such as scikit-learn. It takes three arguments: `df` (the dataset or features), `target` (the target variable), and `test_size` (the proportion of the data to be used for testing, typically expressed as a decimal). \n",
        "\n",
        "The function splits the data randomly, ensuring that the same random split can be reproduced by setting a random seed. The training data (`X_train` and `y_train`) are used to train the model, while the testing data (`X_test` and `y_test`) are used to evaluate the model's performance on unseen data."
      ],
      "metadata": {
        "id": "oyQkpOmSC334"
      }
    },
    {
      "cell_type": "code",
      "source": [
        "#train-test split\n",
        "X_train, X_test, y_train, y_test = train_test_split(df, target, test_size=0.3)"
      ],
      "metadata": {
        "id": "WW2HfnGiRoSG"
      },
      "execution_count": null,
      "outputs": []
    },
    {
      "cell_type": "markdown",
      "source": [
        "```python\n",
        "# Import the necessary libraries\n",
        "import matplotlib.pyplot as plt\n",
        "\n",
        "# Plot a simple visualization of the data's distribution with two features\n",
        "# X_train['SepalLengthCm'] represents the values of the \"SepalLengthCm\" feature in the training data\n",
        "# X_train['PetalLengthCm'] represents the values of the \"PetalLengthCm\" feature in the training data\n",
        "# y_train.values represents the target labels for each data point in the training data\n",
        "# The scatter plot is created by plotting the \"SepalLengthCm\" values on the x-axis and the \"PetalLengthCm\" values on the y-axis\n",
        "# Each data point is colored based on its corresponding target label\n",
        "plt.scatter(X_train['SepalLengthCm'], X_train['PetalLengthCm'], c=y_train.values)\n",
        "```\n",
        "\n",
        "This code snippet is responsible for visualizing the distribution of data using a scatter plot. It uses two features, namely \"SepalLengthCm\" and \"PetalLengthCm,\" and assigns a color to each data point based on its target label.\n",
        "\n",
        "Visualizations like scatter plots are important in data analysis and machine learning for several reasons:\n",
        "1. **Data exploration:** Scatter plots allow us to understand the relationships between different variables and identify patterns or trends. By plotting two features against each other, we can visualize the distribution of the data and gain insights into its structure.\n",
        "2. **Feature selection:** Scatter plots can help us determine the relevance of different features in predicting the target variable. If the data points of different classes are well-separated in the scatter plot, it suggests that the selected features are good predictors.\n",
        "3. **Model evaluation:** Scatter plots can be useful for evaluating the performance of a machine learning model. We can plot the model's predicted values against the actual values and visually assess how well the model is capturing the underlying patterns in the data.\n",
        "4. **Communication of results:** Visualizations provide an intuitive and concise way to present findings and communicate them effectively to others, such as stakeholders or collaborators.\n",
        "\n",
        "In this specific code snippet, the scatter plot is created using the `plt.scatter()` function from the `matplotlib.pyplot` library. The x-axis represents the values of the \"SepalLengthCm\" feature, and the y-axis represents the values of the \"PetalLengthCm\" feature. Each data point is assigned a color based on its corresponding target label (`y_train.values`). This visualization helps us understand the relationship between these two features and how they relate to the target labels."
      ],
      "metadata": {
        "id": "lz6QJT59DNEg"
      }
    },
    {
      "cell_type": "code",
      "source": [
        "#plot a simple look of the data's distribution with two features\n",
        "plt.scatter(X_train['SepalLengthCm'], X_train['PetalLengthCm'], c=y_train.values)"
      ],
      "metadata": {
        "id": "50pg_oZcTfUz",
        "colab": {
          "base_uri": "https://localhost:8080/",
          "height": 447
        },
        "outputId": "9179cc09-3113-4065-e4b9-74adfd78d500"
      },
      "execution_count": null,
      "outputs": [
        {
          "output_type": "execute_result",
          "data": {
            "text/plain": [
              "<matplotlib.collections.PathCollection at 0x7f65945e9f00>"
            ]
          },
          "metadata": {},
          "execution_count": 13
        },
        {
          "output_type": "display_data",
          "data": {
            "text/plain": [
              "<Figure size 640x480 with 1 Axes>"
            ],
            "image/png": "[encoded data removed]"
          },
          "metadata": {}
        }
      ]
    },
    {
      "cell_type": "markdown",
      "source": [
        "```python\n",
        "# This code defines a function called \"KNN\" that implements the k-nearest neighbors algorithm.\n",
        "# The function takes the following parameters:\n",
        "#   - X_train: Training data features (numpy array or pandas DataFrame)\n",
        "#   - y_train: Training data labels (numpy array or pandas Series)\n",
        "#   - x_test: Test data features for which we want to make predictions (numpy array or pandas Series)\n",
        "#   - K: Number of nearest neighbors to consider (default value is 1)\n",
        "\n",
        "# Compute the Euclidean distance between each training data point and the test data point\n",
        "dist = np.linalg.norm(X_train.values - x_test, ord=2, axis=1)\n",
        "\n",
        "# Sort the distances in ascending order and get the indices that would sort the array\n",
        "sorted_arg_dist = np.argsort(dist)\n",
        "\n",
        "# Retrieve the labels of the K nearest neighbors\n",
        "y_nn = y_train.values[sorted_arg_dist[:K]]\n",
        "\n",
        "# Return the mode (most frequent value) of the nearest neighbor labels as the predicted label\n",
        "return mode(y_nn)[0][0]\n",
        "```\n",
        "\n",
        "The code defines a function called `KNN` that implements the k-nearest neighbors (KNN) algorithm. The KNN algorithm is a classification algorithm that predicts the class of a given sample based on the majority class of its k nearest neighbors in the feature space.\n",
        "\n",
        "The function takes the training data (`X_train` and `y_train`), which consists of feature vectors and their corresponding labels, and the test data (`x_test`), for which we want to make predictions. The parameter `K` determines the number of nearest neighbors to consider in the prediction (default is 1).\n",
        "\n",
        "To make a prediction, the function calculates the Euclidean distance between each training data point and the test data point using the `np.linalg.norm` function. The `ord=2` parameter specifies the use of the Euclidean norm, which calculates the straight-line distance between two points in a multidimensional space. The resulting distances are stored in the `dist` array.\n",
        "\n",
        "Next, the function sorts the distances in ascending order and retrieves the indices that would sort the array using the `np.argsort` function. The sorted indices are stored in the `sorted_arg_dist` array.\n",
        "\n",
        "Then, the function retrieves the labels of the K nearest neighbors from the `y_train` array using the sorted indices. These labels are stored in the `y_nn` array.\n",
        "\n",
        "Finally, the function uses the `mode` function to determine the most frequent label among the nearest neighbors' labels. The `mode` function returns a tuple that includes the mode values and their counts. In this case, we only need the first element of the tuple (`mode(y_nn)[0][0]`), which represents the predicted label based on the majority class of the nearest neighbors.\n",
        "\n",
        "The function then returns the predicted label.\n",
        "\n",
        "Overall, this code implements the core logic of the KNN algorithm by calculating distances, finding nearest neighbors, and making predictions based on the majority class."
      ],
      "metadata": {
        "id": "93-F108KDgIy"
      }
    },
    {
      "cell_type": "code",
      "source": [
        "#define KNN function\n",
        "def KNN(X_train, y_train, x_test, K=1):\n",
        "  dist = np.linalg.norm(X_train.values - x_test, ord=2, axis=1)\n",
        "  sorted_arg_dist = np.argsort(dist)\n",
        "  y_nn = y_train.values[sorted_arg_dist[:K]]\n",
        "  return mode(y_nn)[0][0]"
      ],
      "metadata": {
        "id": "3po8l1APUhni"
      },
      "execution_count": null,
      "outputs": []
    },
    {
      "cell_type": "markdown",
      "source": [
        "# Prediction phase\n",
        "\n",
        "# Create an array to store the predicted values\n",
        "y_pred = np.zeros(len(X_test))\n",
        "\n",
        "# Iterate over each data point in the test set\n",
        "for i in range(len(X_test)):\n",
        "  \n",
        "  # Call the KNN function to predict the label for the current data point\n",
        "  # Parameters:\n",
        "  # - X_train: The training set features\n",
        "  # - y_train: The training set labels\n",
        "  # - X_test.values[i]: The current data point from the test set\n",
        "  # - K: The number of nearest neighbors to consider (in this case, 5)\n",
        "  # The KNN function calculates the distance between the current data point and all the training data points,\n",
        "  # selects the K nearest neighbors, and predicts the label based on the majority vote of those neighbors.\n",
        "  y_pred[i] = KNN(X_train, y_train, X_test.values[i], K=5)\n",
        "\n",
        "# After the loop, the y_pred array contains the predicted labels for all data points in the test set"
      ],
      "metadata": {
        "id": "czZlR8NbDu8Y"
      }
    },
    {
      "cell_type": "markdown",
      "source": [
        "```python\n",
        "1\n",
        "2\n",
        "3\n",
        "4\n",
        "#prediction phase\n",
        "y_pred = np.zeros(len(X_test))\n",
        "for i in range(len(X_test)):\n",
        "  y_pred[i] = KNN(X_train, y_train, X_test.values[i], K=5)\n",
        "```\n",
        "\n",
        "The code snippet above is performing a prediction phase using the k-nearest neighbors (KNN) algorithm. Here's a breakdown of what each section of the code is doing:\n",
        "\n",
        "1. **Comment:** `#prediction phase`\n",
        "   - Explanation: This comment serves as a descriptive label for the following code section, indicating that it is the prediction phase of the algorithm.\n",
        "\n",
        "2. **Code:** `y_pred = np.zeros(len(X_test))`\n",
        "   - Explanation: This line initializes an array called `y_pred` with zeros, with a length equal to the number of samples in the test set (`X_test`). This array will store the predicted labels for the test set.\n",
        "\n",
        "3. **Code:** `for i in range(len(X_test)):`\n",
        "   - Explanation: This line starts a loop that iterates over each sample in the test set. It uses the `range` function to generate a sequence of"
      ],
      "metadata": {
        "id": "73a-et1qEBAw"
      }
    },
    {
      "cell_type": "code",
      "source": [
        "#prediction phase\n",
        "y_pred = np.zeros(len(X_test))\n",
        "for i in range(len(X_test)):\n",
        "  y_pred[i] = KNN(X_train, y_train, X_test.values[i], K=5)"
      ],
      "metadata": {
        "id": "G6dyxw33WLuV",
        "colab": {
          "base_uri": "https://localhost:8080/"
        },
        "outputId": "0cf6a0ae-25fa-458f-bbdb-bc62d019dddb"
      },
      "execution_count": null,
      "outputs": [
        {
          "output_type": "stream",
          "name": "stderr",
          "text": [
            "<ipython-input-14-f162c68bd51e>:6: FutureWarning: Unlike other reduction functions (e.g. `skew`, `kurtosis`), the default behavior of `mode` typically preserves the axis it acts along. In SciPy 1.11.0, this behavior will change: the default value of `keepdims` will become False, the `axis` over which the statistic is taken will be eliminated, and the value None will no longer be accepted. Set `keepdims` to True or False to avoid this warning.\n",
            "  return mode(y_nn)[0][0]\n"
          ]
        }
      ]
    },
    {
      "cell_type": "markdown",
      "source": [
        "```python\n",
        "1\n",
        "2\n",
        "# Evaluation\n",
        "print(classification_report(y_test, y_pred))\n",
        "```\n",
        "\n",
        "This code snippet performs evaluation of a classification model and prints the classification report. Let's break it down:\n",
        "\n",
        "1. `# Evaluation`: This comment serves as a heading or a description for the code section that follows. It provides a brief overview of what the code is going to do.\n",
        "\n",
        "2. `print(classification_report(y_test, y_pred))`: This line of code calculates and displays the classification report for the model's predictions. The `classification_report` function takes two arguments: `y_test` and `y_pred`. Here's what each of these arguments represents:\n",
        "\n",
        "   - `y_test`: This is the true label or ground truth values for the test dataset. It contains the correct labels that the model should have predicted.\n",
        "   - `y_pred`: This is the predicted label values generated by the model for the test dataset. It contains the labels predicted by the model.\n",
        "\n",
        "   The `classification_report` function analyzes the predicted labels and the true labels to provide various evaluation metrics such as precision, recall, F1-score, and support for each class. These metrics help in assessing the performance of the classification model.\n",
        "\n",
        "   The `print` statement displays the classification report on the console or output screen.\n",
        "\n",
        "   By printing the classification report, you can easily assess the performance of the classification model, identify any issues such as imbalanced classes or low precision/recall for specific classes, and make informed decisions about model improvements or adjustments. It provides valuable information for evaluating the model's effectiveness in differentiating between classes and helps in understanding its strengths and weaknesses."
      ],
      "metadata": {
        "id": "GmJZnFXXESJJ"
      }
    },
    {
      "cell_type": "code",
      "source": [
        "#evaluation\n",
        "print(classification_report(y_test, y_pred))"
      ],
      "metadata": {
        "id": "9ycgZuo-YeTr",
        "colab": {
          "base_uri": "https://localhost:8080/"
        },
        "outputId": "bbb58bbf-54ab-4603-903b-e92d781be135"
      },
      "execution_count": null,
      "outputs": [
        {
          "output_type": "stream",
          "name": "stdout",
          "text": [
            "              precision    recall  f1-score   support\n",
            "\n",
            "           0       1.00      1.00      1.00        13\n",
            "           1       0.94      0.85      0.89        20\n",
            "           2       0.79      0.92      0.85        12\n",
            "\n",
            "    accuracy                           0.91        45\n",
            "   macro avg       0.91      0.92      0.91        45\n",
            "weighted avg       0.92      0.91      0.91        45\n",
            "\n"
          ]
        }
      ]
    },
    {
      "cell_type": "markdown",
      "source": [
        "```python\n",
        "# Importing the required library\n",
        "from sklearn.neighbors import KNeighborsClassifier\n",
        "\n",
        "# Creating an instance of the KNeighborsClassifier class\n",
        "# Specifying the number of neighbors (k) as 5\n",
        "# Choosing the algorithm 'kd_tree' for efficient nearest neighbor search\n",
        "# Setting the parameter p=2, which corresponds to the Euclidean distance metric (Minkowski metric with p=2)\n",
        "knn = KNeighborsClassifier(n_neighbors=5, algorithm='kd_tree', p=2)\n",
        "```\n",
        "\n",
        "In this code, the K-nearest neighbors (KNN) algorithm is being utilized for classification. KNN is a machine learning algorithm that classifies new instances based on their similarity to previously labeled instances. The code sets up the KNeighborsClassifier object with the desired configuration.\n",
        "\n",
        "The `KNeighborsClassifier` class is imported from the `sklearn.neighbors` module, which is part of the popular scikit-learn library for machine learning in Python.\n",
        "\n",
        "The instantiated `knn` object is an instance of the `KNeighborsClassifier` class. It is configured with the following parameters:\n",
        "\n",
        "- `n_neighbors=5`: This sets the number of neighbors to consider when making predictions. In this case, the algorithm will look at the five closest neighbors to the input instance.\n",
        "- `algorithm='kd_tree'`: This specifies the algorithm to use for efficient nearest neighbor search. The 'kd_tree' algorithm is chosen here, which organizes the data in a binary tree structure for faster searching.\n",
        "- `p=2`: This parameter determines the distance metric used by the KNN algorithm. A value of 2 corresponds to the Euclidean distance metric, also known as the Minkowski metric with p=2. The Euclidean distance measures the straight-line distance between two points in a multidimensional space.\n",
        "\n",
        "By setting up the KNN classifier object with these parameters, we are preparing it to perform classification tasks based on the KNN algorithm using the Euclidean distance metric."
      ],
      "metadata": {
        "id": "6bkSi_pEEgfB"
      }
    },
    {
      "cell_type": "code",
      "source": [
        "#applying built-in function / p is related Minkowski metric\n",
        "knn = KNeighborsClassifier(n_neighbors=5, algorithm='kd_tree', p=2)"
      ],
      "metadata": {
        "id": "p5UMvRy7ZEoV"
      },
      "execution_count": null,
      "outputs": []
    },
    {
      "cell_type": "markdown",
      "source": [
        "# Fit the k-nearest neighbors (knn) model to the training data\n",
        "knn.fit(X_train, y_train)"
      ],
      "metadata": {
        "id": "n6m_Bsa4EpXA"
      }
    },
    {
      "cell_type": "code",
      "source": [
        "knn.fit(X_train, y_train)"
      ],
      "metadata": {
        "id": "wmns8AoXZVFv",
        "colab": {
          "base_uri": "https://localhost:8080/",
          "height": 74
        },
        "outputId": "65dea19e-d862-4fcc-a67a-3d1cc54c943d"
      },
      "execution_count": null,
      "outputs": [
        {
          "output_type": "execute_result",
          "data": {
            "text/plain": [
              "KNeighborsClassifier(algorithm='kd_tree')"
            ],
            "text/html": [
              "<style>#sk-container-id-1 {color: black;background-color: white;}#sk-container-id-1 pre{padding: 0;}#sk-container-id-1 div.sk-toggleable {background-color: white;}#sk-container-id-1 label.sk-toggleable__label {cursor: pointer;display: block;width: 100%;margin-bottom: 0;padding: 0.3em;box-sizing: border-box;text-align: center;}#sk-container-id-1 label.sk-toggleable__label-arrow:before {content: \"▸\";float: left;margin-right: 0.25em;color: #696969;}#sk-container-id-1 label.sk-toggleable__label-arrow:hover:before {color: black;}#sk-container-id-1 div.sk-estimator:hover label.sk-toggleable__label-arrow:before {color: black;}#sk-container-id-1 div.sk-toggleable__content {max-height: 0;max-width: 0;overflow: hidden;text-align: left;background-color: #f0f8ff;}#sk-container-id-1 div.sk-toggleable__content pre {margin: 0.2em;color: black;border-radius: 0.25em;background-color: #f0f8ff;}#sk-container-id-1 input.sk-toggleable__control:checked~div.sk-toggleable__content {max-height: 200px;max-width: 100%;overflow: auto;}#sk-container-id-1 input.sk-toggleable__control:checked~label.sk-toggleable__label-arrow:before {content: \"▾\";}#sk-container-id-1 div.sk-estimator input.sk-toggleable__control:checked~label.sk-toggleable__label {background-color: #d4ebff;}#sk-container-id-1 div.sk-label input.sk-toggleable__control:checked~label.sk-toggleable__label {background-color: #d4ebff;}#sk-container-id-1 input.sk-hidden--visually {border: 0;clip: rect(1px 1px 1px 1px);clip: rect(1px, 1px, 1px, 1px);height: 1px;margin: -1px;overflow: hidden;padding: 0;position: absolute;width: 1px;}#sk-container-id-1 div.sk-estimator {font-family: monospace;background-color: #f0f8ff;border: 1px dotted black;border-radius: 0.25em;box-sizing: border-box;margin-bottom: 0.5em;}#sk-container-id-1 div.sk-estimator:hover {background-color: #d4ebff;}#sk-container-id-1 div.sk-parallel-item::after {content: \"\";width: 100%;border-bottom: 1px solid gray;flex-grow: 1;}#sk-container-id-1 div.sk-label:hover label.sk-toggleable__label {background-color: #d4ebff;}#sk-container-id-1 div.sk-serial::before {content: \"\";position: absolute;border-left: 1px solid gray;box-sizing: border-box;top: 0;bottom: 0;left: 50%;z-index: 0;}#sk-container-id-1 div.sk-serial {display: flex;flex-direction: column;align-items: center;background-color: white;padding-right: 0.2em;padding-left: 0.2em;position: relative;}#sk-container-id-1 div.sk-item {position: relative;z-index: 1;}#sk-container-id-1 div.sk-parallel {display: flex;align-items: stretch;justify-content: center;background-color: white;position: relative;}#sk-container-id-1 div.sk-item::before, #sk-container-id-1 div.sk-parallel-item::before {content: \"\";position: absolute;border-left: 1px solid gray;box-sizing: border-box;top: 0;bottom: 0;left: 50%;z-index: -1;}#sk-container-id-1 div.sk-parallel-item {display: flex;flex-direction: column;z-index: 1;position: relative;background-color: white;}#sk-container-id-1 div.sk-parallel-item:first-child::after {align-self: flex-end;width: 50%;}#sk-container-id-1 div.sk-parallel-item:last-child::after {align-self: flex-start;width: 50%;}#sk-container-id-1 div.sk-parallel-item:only-child::after {width: 0;}#sk-container-id-1 div.sk-dashed-wrapped {border: 1px dashed gray;margin: 0 0.4em 0.5em 0.4em;box-sizing: border-box;padding-bottom: 0.4em;background-color: white;}#sk-container-id-1 div.sk-label label {font-family: monospace;font-weight: bold;display: inline-block;line-height: 1.2em;}#sk-container-id-1 div.sk-label-container {text-align: center;}#sk-container-id-1 div.sk-container {/* jupyter's `normalize.less` sets `[hidden] { display: none; }` but bootstrap.min.css set `[hidden] { display: none !important; }` so we also need the `!important` here to be able to override the default hidden behavior on the sphinx rendered scikit-learn.org. See: https://github.com/scikit-learn/scikit-learn/issues/21755 */display: inline-block !important;position: relative;}#sk-container-id-1 div.sk-text-repr-fallback {display: none;}</style><div id=\"sk-container-id-1\" class=\"sk-top-container\"><div class=\"sk-text-repr-fallback\"><pre>KNeighborsClassifier(algorithm=&#x27;kd_tree&#x27;)</pre><b>In a Jupyter environment, please rerun this cell to show the HTML representation or trust the notebook. <br />On GitHub, the HTML representation is unable to render, please try loading this page with nbviewer.org.</b></div><div class=\"sk-container\" hidden><div class=\"sk-item\"><div class=\"sk-estimator sk-toggleable\"><input class=\"sk-toggleable__control sk-hidden--visually\" id=\"sk-estimator-id-1\" type=\"checkbox\" checked><label for=\"sk-estimator-id-1\" class=\"sk-toggleable__label sk-toggleable__label-arrow\">KNeighborsClassifier</label><div class=\"sk-toggleable__content\"><pre>KNeighborsClassifier(algorithm=&#x27;kd_tree&#x27;)</pre></div></div></div></div></div>"
            ]
          },
          "metadata": {},
          "execution_count": 18
        }
      ]
    },
    {
      "cell_type": "markdown",
      "source": [
        "# Predicting the target variable using the K-nearest neighbors (KNN) classifier\n",
        "# The KNN algorithm is being used to make predictions based on the provided input data (X_test)\n",
        "# The predicted values will be stored in the variable y_pred2\n",
        "\n",
        "2\n",
        "accuracy2 = accuracy_score(y_test, y_pred2)"
      ],
      "metadata": {
        "id": "--IyZ0hdFCiI"
      }
    },
    {
      "cell_type": "code",
      "source": [
        "y_pred2 = knn.predict(X_test)"
      ],
      "metadata": {
        "id": "JZ5JYVggZhMj"
      },
      "execution_count": null,
      "outputs": []
    },
    {
      "cell_type": "markdown",
      "source": [
        "# The line of code is printing the classification report.\n",
        "# The classification report is a summary of the performance of a classification model.\n",
        "# It provides important evaluation metrics such as precision, recall, F1-score, and support for each class.\n",
        "# The 'y_test' variable represents the true labels of the test data, while 'y_pred2' represents the predicted labels by the model.\n",
        "# By printing the classification report, we can assess the model's accuracy and understand how well it performed on different classes."
      ],
      "metadata": {
        "id": "K1Qia6lwFJdw"
      }
    },
    {
      "cell_type": "code",
      "source": [
        "print(classification_report(y_test, y_pred2))"
      ],
      "metadata": {
        "id": "V2Wtjr7CZnGW",
        "colab": {
          "base_uri": "https://localhost:8080/"
        },
        "outputId": "927e963c-3437-4d9c-a983-2541a741c007"
      },
      "execution_count": null,
      "outputs": [
        {
          "output_type": "stream",
          "name": "stdout",
          "text": [
            "              precision    recall  f1-score   support\n",
            "\n",
            "           0       1.00      1.00      1.00        13\n",
            "           1       0.94      0.85      0.89        20\n",
            "           2       0.79      0.92      0.85        12\n",
            "\n",
            "    accuracy                           0.91        45\n",
            "   macro avg       0.91      0.92      0.91        45\n",
            "weighted avg       0.92      0.91      0.91        45\n",
            "\n"
          ]
        }
      ]
    },
    {
      "cell_type": "markdown",
      "source": [
        "#Image Classification with KNN"
      ],
      "metadata": {
        "id": "bpje0DTtGpQp"
      }
    },
    {
      "cell_type": "markdown",
      "source": [
        "# The code above is a command that is commonly used in Unix-like operating systems to list the files and directories in the current directory.\n",
        "# The exclamation mark (!) at the beginning indicates that the command is to be executed in the command line or shell, rather than within the code itself.\n",
        "# This command can be useful for quickly checking the contents of a directory, verifying that certain files are present, or navigating through the file system.\n",
        "\n",
        "2\n",
        "import pandas as pd"
      ],
      "metadata": {
        "id": "pirVUV_VVE5s"
      }
    },
    {
      "cell_type": "code",
      "source": [
        "!ls"
      ],
      "metadata": {
        "colab": {
          "base_uri": "https://localhost:8080/"
        },
        "id": "FWQU3QkCu85C",
        "outputId": "4cb4945a-d1ea-4600-d92f-49a0893ffd5b"
      },
      "execution_count": null,
      "outputs": [
        {
          "output_type": "stream",
          "name": "stdout",
          "text": [
            "Iris.csv  sample_data\n"
          ]
        }
      ]
    },
    {
      "cell_type": "markdown",
      "source": [
        "# Unzipping the file \"persian.zip\"\n",
        "# The \"!\" symbol is often used to execute shell commands in Jupyter notebooks or Colab notebooks\n",
        "# This command will extract the contents of the \"persian.zip\" file\n",
        "\n",
        "2\n",
        "import os\n",
        "\n",
        "3\n",
        "directory = 'persian'\n",
        "\n",
        "4\n",
        "# Check if the directory already exists\n",
        "if not os.path.exists(directory):\n",
        "    # Create the directory if it doesn't exist\n",
        "    os.makedirs(directory)\n",
        "\n",
        "5\n",
        "# Move into the directory\n",
        "os.chdir(directory)\n",
        "\n",
        "6\n",
        "# Print the current working directory\n",
        "print(os.getcwd())"
      ],
      "metadata": {
        "id": "RlyypcSbVaJl"
      }
    },
    {
      "cell_type": "code",
      "source": [
        "!unzip persian.zip"
      ],
      "metadata": {
        "id": "la9Ia2SSdwaO",
        "colab": {
          "base_uri": "https://localhost:8080/"
        },
        "outputId": "021eb233-81a7-4135-822e-75c5a7393f57"
      },
      "execution_count": null,
      "outputs": [
        {
          "output_type": "stream",
          "name": "stdout",
          "text": [
            "unzip:  cannot find or open persian.zip, persian.zip.zip or persian.zip.ZIP.\n"
          ]
        }
      ]
    },
    {
      "cell_type": "markdown",
      "source": [
        "```python\n",
        "# Initialize an array of zeros with dimensions (989, 28*18) to store flattened images\n",
        "Im_flat = np.zeros((989, 28*18))\n",
        "\n",
        "# Initialize a counter variable to keep track of the current index\n",
        "cnt = 0\n",
        "\n",
        "# Initialize an array of zeros with length 989 to store target values\n",
        "target = np.zeros((989))\n",
        "\n",
        "# Iterate through numbers 0 to 9\n",
        "for i in range(10):\n",
        "    # Get the list of files in the directory corresponding to the current number\n",
        "    ls = os.listdir(str(i) + 'p')\n",
        "\n",
        "    # Iterate through each image file in the directory\n",
        "    for image_path in ls:\n",
        "        # Read the image using plt.imread() function\n",
        "        Im = plt.imread(str(i) + 'p/' + image_path)\n",
        "\n",
        "        # Flatten the image and store it in the Im_flat array\n",
        "        Im_flat[cnt,:] = Im.reshape(-1)\n",
        "\n",
        "        # Store the target value (current number) in the target array\n",
        "        target[cnt] = i\n",
        "\n",
        "        # Increment the counter\n",
        "        cnt += 1\n",
        "\n",
        "# Display an example image using plt.imshow() function\n",
        "plt.imshow(Im)\n",
        "```\n",
        "\n",
        "This code snippet performs the following tasks:\n",
        "\n",
        "1. It initializes an array called `Im_flat` with dimensions (989, 28*18) to store flattened images. This array will hold the flattened representation of each image.\n",
        "2. It initializes a counter variable `cnt` to keep track of the current index while iterating through the images.\n",
        "3. It initializes an array called `target` with length 989 to store the target values. The target values represent the corresponding numbers for each image.\n",
        "4. It iterates through the numbers 0 to 9.\n",
        "5. For each number, it retrieves the list of files in the directory corresponding to that number using `os.listdir()`.\n",
        "6. It iterates through each image file in the directory.\n",
        "7. For each image, it reads the image using `plt.imread()` function and assigns it to the variable `Im`.\n",
        "8. It flattens the image using the `reshape()` function and stores the flattened representation in the `Im_flat` array at the current index `cnt`.\n",
        "9. It assigns the current number `i` as the target value for the current image by storing it in the `target` array at the current index `cnt`.\n",
        "10. It increments the counter `cnt` to move to the next index.\n",
        "11. Finally, it displays an example image using the `plt.imshow()` function. This provides a visual representation of one of the images from the dataset.\n",
        "\n",
        "Overall, this code is important for preparing the image data for further processing or analysis. It reads a set of images, flattens them into a 1D array, and stores them in `Im_flat` along with their corresponding target values in `target`. The example image displayed at the end helps in visualizing the data and confirming its correctness."
      ],
      "metadata": {
        "id": "Y8SEyNjrX9jt"
      }
    },
    {
      "cell_type": "code",
      "source": [
        "Im_flat = np.zeros((989, 28*18))\n",
        "cnt = 0\n",
        "target = np.zeros((989))\n",
        "for i in range(10):\n",
        "  ls = os.listdir(str(i) + 'p')\n",
        "  \n",
        "  for image_path in ls:\n",
        "    Im = plt.imread(str(i) + 'p/' + image_path)\n",
        "    Im_flat[cnt,:] = Im.reshape(-1) #flatten\n",
        "    target[cnt] = i\n",
        "    cnt += 1\n",
        "\n",
        "plt.imshow(Im) #showing an example"
      ],
      "metadata": {
        "colab": {
          "base_uri": "https://localhost:8080/",
          "height": 235
        },
        "outputId": "522eec1a-2751-4cf7-9342-0611e75448fe",
        "id": "8cs0pQ8nWbBB"
      },
      "execution_count": null,
      "outputs": [
        {
          "output_type": "error",
          "ename": "FileNotFoundError",
          "evalue": "ignored",
          "traceback": [
            "\u001b[0;31m---------------------------------------------------------------------------\u001b[0m",
            "\u001b[0;31mFileNotFoundError\u001b[0m                         Traceback (most recent call last)",
            "\u001b[0;32m<ipython-input-23-627ebd006863>\u001b[0m in \u001b[0;36m<cell line: 4>\u001b[0;34m()\u001b[0m\n\u001b[1;32m      3\u001b[0m \u001b[0mtarget\u001b[0m \u001b[0;34m=\u001b[0m \u001b[0mnp\u001b[0m\u001b[0;34m.\u001b[0m\u001b[0mzeros\u001b[0m\u001b[0;34m(\u001b[0m\u001b[0;34m(\u001b[0m\u001b[0;36m989\u001b[0m\u001b[0;34m)\u001b[0m\u001b[0;34m)\u001b[0m\u001b[0;34m\u001b[0m\u001b[0;34m\u001b[0m\u001b[0m\n\u001b[1;32m      4\u001b[0m \u001b[0;32mfor\u001b[0m \u001b[0mi\u001b[0m \u001b[0;32min\u001b[0m \u001b[0mrange\u001b[0m\u001b[0;34m(\u001b[0m\u001b[0;36m10\u001b[0m\u001b[0;34m)\u001b[0m\u001b[0;34m:\u001b[0m\u001b[0;34m\u001b[0m\u001b[0;34m\u001b[0m\u001b[0m\n\u001b[0;32m----> 5\u001b[0;31m   \u001b[0mls\u001b[0m \u001b[0;34m=\u001b[0m \u001b[0mos\u001b[0m\u001b[0;34m.\u001b[0m\u001b[0mlistdir\u001b[0m\u001b[0;34m(\u001b[0m\u001b[0mstr\u001b[0m\u001b[0;34m(\u001b[0m\u001b[0mi\u001b[0m\u001b[0;34m)\u001b[0m \u001b[0;34m+\u001b[0m \u001b[0;34m'p'\u001b[0m\u001b[0;34m)\u001b[0m\u001b[0;34m\u001b[0m\u001b[0;34m\u001b[0m\u001b[0m\n\u001b[0m\u001b[1;32m      6\u001b[0m \u001b[0;34m\u001b[0m\u001b[0m\n\u001b[1;32m      7\u001b[0m   \u001b[0;32mfor\u001b[0m \u001b[0mimage_path\u001b[0m \u001b[0;32min\u001b[0m \u001b[0mls\u001b[0m\u001b[0;34m:\u001b[0m\u001b[0;34m\u001b[0m\u001b[0;34m\u001b[0m\u001b[0m\n",
            "\u001b[0;31mFileNotFoundError\u001b[0m: [Errno 2] No such file or directory: '0p'"
          ]
        }
      ]
    },
    {
      "cell_type": "markdown",
      "source": [
        "# Splitting the data into training and testing sets\n",
        "# The function train_test_split() is used to divide the dataset into two parts: training data and testing data.\n",
        "# This helps in evaluating the performance of the model on unseen data.\n",
        "# Parameters:\n",
        "# - Im_flat: The input data, usually features or predictors.\n",
        "# - target: The target variable or the output that we want to predict.\n",
        "# - test_size: The proportion of the dataset to include in the testing set (in this case, 20%).\n",
        "# Returns:\n",
        "# - X_train: The training data (input features) that will be used to train the model.\n",
        "# - X_test: The testing data (input features) that will be used to evaluate the model's performance.\n",
        "# - y_train: The training data (target variable) corresponding to X_train.\n",
        "# - y_test: The testing data (target variable) corresponding to X_test."
      ],
      "metadata": {
        "id": "lOSJH7fjYF18"
      }
    },
    {
      "cell_type": "code",
      "source": [
        "X_train, X_test, y_train, y_test = train_test_split(Im_flat, target, test_size=0.2)"
      ],
      "metadata": {
        "id": "6zNTvRDVf1c5"
      },
      "execution_count": null,
      "outputs": []
    },
    {
      "cell_type": "markdown",
      "source": [
        "# Create a K-nearest neighbors classifier object for image classification\n",
        "knn_image = KNeighborsClassifier(n_neighbors=5, algorithm='brute', p=2)\n",
        "\n",
        "# The 'n_neighbors' parameter specifies the number of neighbors to consider when classifying an image.\n",
        "# Here, we set it to 5, which means the classifier will look at the 5 nearest neighbors to make a prediction.\n",
        "\n",
        "# The 'algorithm' parameter determines the algorithm used to compute the nearest neighbors.\n",
        "# We set it to 'brute', which means it will use a brute-force search to find the nearest neighbors.\n",
        "\n",
        "# The 'p' parameter specifies the power parameter for the Minkowski distance metric.\n",
        "# We set it to 2, indicating that we want to use the Euclidean distance metric.\n",
        "\n",
        "# This code initializes a K-nearest neighbors classifier for image classification using the specified parameters.\n",
        "# It is an important step before training the classifier and making predictions on new images."
      ],
      "metadata": {
        "id": "poeqTP4DYi7c"
      }
    },
    {
      "cell_type": "code",
      "source": [
        "knn_image = KNeighborsClassifier(n_neighbors=5, algorithm='brute', p=2)"
      ],
      "metadata": {
        "id": "p0a3fiNTf_Fj"
      },
      "execution_count": null,
      "outputs": []
    },
    {
      "cell_type": "markdown",
      "source": [],
      "metadata": {
        "id": "mhd4csyUYknE"
      }
    },
    {
      "cell_type": "markdown",
      "source": [
        "# Fit the K-Nearest Neighbors (KNN) classifier to the training data.\n",
        "knn_image.fit(X_train, y_train)\n",
        "\n",
        "# The KNN algorithm is being used to train a classifier model called knn_image. \n",
        "# X_train is the input features (images) used for training the model, and y_train is the corresponding labels (classifications) for the images. \n",
        "# The fit() method is called on knn_image to train the model by finding the optimal parameters that minimize the distance between the input features and their corresponding labels. \n",
        "# This step is important as it allows the model to learn from the training data and make predictions based on the learned patterns."
      ],
      "metadata": {
        "id": "n1-q-qMmYvFl"
      }
    },
    {
      "cell_type": "code",
      "source": [
        "knn_image.fit(X_train, y_train)"
      ],
      "metadata": {
        "id": "46Mu61klgASq"
      },
      "execution_count": null,
      "outputs": []
    },
    {
      "cell_type": "markdown",
      "source": [
        "# Predicting the labels for the test dataset using the k-nearest neighbors classifier (knn_image)\n",
        "# and storing the predicted labels in the variable y_pred3.\n",
        "# This step is important to evaluate the performance of the classifier on unseen data.\n",
        "\n",
        "2\n",
        "accuracy = np.mean(y_pred3 == y_test)"
      ],
      "metadata": {
        "id": "p05lGPurZQDU"
      }
    },
    {
      "cell_type": "code",
      "source": [
        "y_pred3 = knn_image.predict(X_test)"
      ],
      "metadata": {
        "id": "OgQi5UTJgGUN"
      },
      "execution_count": null,
      "outputs": []
    },
    {
      "cell_type": "markdown",
      "source": [
        "# Print classification report\n",
        "print(classification_report(y_test, y_pred3))\n",
        "\n",
        "# This line of code prints a classification report based on the predictions made by a model.\n",
        "# The classification report provides a summary of various performance metrics such as precision, recall, F1-score, and support for each class in the predicted data compared to the true labels.\n",
        "# It helps to evaluate the performance of a classification model by providing insights into how well the model has predicted different classes.\n",
        "# The 'y_test' parameter represents the true labels or ground truth values of the test data.\n",
        "# The 'y_pred3' parameter represents the predicted labels generated by the model.\n",
        "# This line of code is important as it provides a concise summary of the model's performance, helping to assess its accuracy and identify any potential issues such as class imbalance or misclassification."
      ],
      "metadata": {
        "id": "OX3XK0TIZbDl"
      }
    },
    {
      "cell_type": "code",
      "source": [
        "print(classification_report(y_test, y_pred3))"
      ],
      "metadata": {
        "id": "lozdmeYBgKmh"
      },
      "execution_count": null,
      "outputs": []
    },
    {
      "cell_type": "markdown",
      "source": [
        "#Evaluation"
      ],
      "metadata": {
        "id": "DtDuJjPayPkC"
      }
    },
    {
      "cell_type": "markdown",
      "source": [
        "```python\n",
        "import numpy as np\n",
        "from sklearn.neighbors import KNeighborsClassifier\n",
        "from sklearn.model_selection import cross_val_score\n",
        "\n",
        "# Create an array of neighbor values from 1 to 10\n",
        "neighbors = np.arange(1, 11)\n",
        "\n",
        "# Define the values of p for KNN algorithm\n",
        "p = [1, 2, np.inf]\n",
        "\n",
        "# Iterate over each value of p\n",
        "for j in p:\n",
        "    print('p is', j)\n",
        "    \n",
        "    # Iterate over each value of neighbors\n",
        "    for k in neighbors:\n",
        "        # Create a KNeighborsClassifier object with current k and j values\n",
        "        kkn_val = KNeighborsClassifier(n_neighbors=k, p=j)\n",
        "        \n",
        "        # Perform cross-validation using KNeighborsClassifier\n",
        "        # with X_train and y_train data, using 5-fold cross-validation\n",
        "        scores = cross_val_score(kkn_val, X_train, y_train, cv=5, scoring='accuracy')\n",
        "        \n",
        "        # Print the results of accuracy for each k value and the mean accuracy\n",
        "        print('for k =', k, 'acc is', scores, 'mean_acc is', scores.mean())\n",
        "```\n",
        "\n",
        "This code performs a nested loop to evaluate the performance of a K-Nearest Neighbors (KNN) classifier with different values of neighbors and p. Here's a breakdown of what each section of the code does:\n",
        "\n",
        "- Line 1: Import the necessary libraries, including `numpy` for array operations, `KNeighborsClassifier` for the KNN classifier, and `cross_val_score` for cross-validation.\n",
        "\n",
        "- Line 4: Create an array called `neighbors` containing values from 1 to 10. These values represent the number of nearest neighbors to consider in the KNN algorithm.\n",
        "\n",
        "- Line 6: Define a list `p` with three elements: 1, 2, and `np.inf`. These values represent the distance metric used in the KNN algorithm: 1 for Manhattan distance, 2 for Euclidean distance, and `np.inf` for Chebyshev distance.\n",
        "\n",
        "- Line 9: Start the outer loop over each value of p.\n",
        "\n",
        "- Line 10: Print the current value of p.\n",
        "\n",
        "- Line 13: Start the inner loop over each value of neighbors.\n",
        "\n",
        "- Line 16: Create a `KNeighborsClassifier` object called `kkn_val` with the current values of k (number of neighbors) and j (distance metric).\n",
        "\n",
        "- Line 19: Perform cross-validation using the `cross_val_score` function. It trains the `kkn_val` classifier using the `X_train` and `y_train` data, and evaluates its accuracy using 5-fold cross-validation.\n",
        "\n",
        "- Line 21: Print the accuracy scores obtained for the current k value.\n",
        "\n",
        "- Line 22: Print the mean accuracy obtained by averaging the accuracy scores from the cross-validation.\n",
        "\n",
        "The purpose of this code is to systematically explore different combinations of k (number of neighbors) and p (distance metric) for the KNN algorithm. By performing cross-validation and printing the accuracy scores, it helps in evaluating the performance of the KNN classifier for different parameter settings. This information can be used to determine the optimal values of k and p that yield the best accuracy for the given dataset."
      ],
      "metadata": {
        "id": "b-56T6p8ZrYs"
      }
    },
    {
      "cell_type": "code",
      "source": [
        "neighbors = np.arange(1, 11)\n",
        "p = [1, 2, np.inf]\n",
        "for j in p:\n",
        "  print('p is', j)\n",
        "  for k in neighbors:\n",
        "    kkn_val = KNeighborsClassifier(n_neighbors=k, p=j)\n",
        "    scores = cross_val_score(kkn_val, X_train, y_train, cv=5,\n",
        "                            scoring='accuracy')\n",
        "    print('for k = ', k, 'acc is ', scores, 'mean_acc is ', scores.mean())"
      ],
      "metadata": {
        "id": "KKQwqyImyPEp",
        "colab": {
          "base_uri": "https://localhost:8080/"
        },
        "outputId": "5771c2df-3072-4b01-b647-67cabf78f23b"
      },
      "execution_count": null,
      "outputs": [
        {
          "output_type": "stream",
          "name": "stdout",
          "text": [
            "p is 1\n",
            "for k =  1 acc is  [0.95238095 0.95238095 0.9047619  1.         1.        ] mean_acc is  0.9619047619047618\n",
            "for k =  2 acc is  [1.         0.95238095 0.9047619  0.95238095 1.        ] mean_acc is  0.9619047619047618\n",
            "for k =  3 acc is  [1.         0.95238095 0.95238095 1.         1.        ] mean_acc is  0.980952380952381\n",
            "for k =  4 acc is  [1.         0.95238095 0.9047619  1.         1.        ] mean_acc is  0.9714285714285715\n",
            "for k =  5 acc is  [1.         0.95238095 1.         1.         1.        ] mean_acc is  0.9904761904761905\n",
            "for k =  6 acc is  [1.         0.95238095 1.         1.         1.        ] mean_acc is  0.9904761904761905\n",
            "for k =  7 acc is  [1.         0.95238095 1.         1.         1.        ] mean_acc is  0.9904761904761905\n",
            "for k =  8 acc is  [1.         0.95238095 1.         1.         1.        ] mean_acc is  0.9904761904761905\n",
            "for k =  9 acc is  [1.         0.95238095 1.         1.         1.        ] mean_acc is  0.9904761904761905\n",
            "for k =  10 acc is  [1.         0.95238095 1.         1.         1.        ] mean_acc is  0.9904761904761905\n",
            "p is 2\n",
            "for k =  1 acc is  [1.         0.95238095 0.9047619  1.         1.        ] mean_acc is  0.9714285714285715\n",
            "for k =  2 acc is  [1.         0.95238095 0.9047619  1.         1.        ] mean_acc is  0.9714285714285715\n",
            "for k =  3 acc is  [1.         0.95238095 0.95238095 1.         1.        ] mean_acc is  0.980952380952381\n",
            "for k =  4 acc is  [1.         0.95238095 0.95238095 1.         1.        ] mean_acc is  0.980952380952381\n",
            "for k =  5 acc is  [1.         0.95238095 1.         1.         1.        ] mean_acc is  0.9904761904761905\n",
            "for k =  6 acc is  [1.         0.95238095 1.         1.         1.        ] mean_acc is  0.9904761904761905\n",
            "for k =  7 acc is  [0.95238095 0.95238095 1.         1.         1.        ] mean_acc is  0.980952380952381\n",
            "for k =  8 acc is  [1.         0.95238095 1.         1.         1.        ] mean_acc is  0.9904761904761905\n",
            "for k =  9 acc is  [1.         0.95238095 1.         1.         1.        ] mean_acc is  0.9904761904761905\n",
            "for k =  10 acc is  [1.         0.95238095 1.         1.         1.        ] mean_acc is  0.9904761904761905\n",
            "p is inf\n",
            "for k =  1 acc is  [1.         0.95238095 0.9047619  1.         0.95238095] mean_acc is  0.9619047619047618\n",
            "for k =  2 acc is  [1.         0.95238095 0.9047619  1.         1.        ] mean_acc is  0.9714285714285715\n",
            "for k =  3 acc is  [0.95238095 0.95238095 1.         1.         1.        ] mean_acc is  0.980952380952381\n",
            "for k =  4 acc is  [0.95238095 0.95238095 1.         1.         1.        ] mean_acc is  0.980952380952381\n",
            "for k =  5 acc is  [0.95238095 0.95238095 1.         1.         1.        ] mean_acc is  0.980952380952381\n",
            "for k =  6 acc is  [0.95238095 0.95238095 1.         1.         1.        ] mean_acc is  0.980952380952381\n",
            "for k =  7 acc is  [0.9047619  0.95238095 1.         1.         1.        ] mean_acc is  0.9714285714285715\n",
            "for k =  8 acc is  [1.         0.95238095 1.         0.95238095 1.        ] mean_acc is  0.980952380952381\n",
            "for k =  9 acc is  [0.95238095 0.95238095 1.         1.         1.        ] mean_acc is  0.980952380952381\n",
            "for k =  10 acc is  [0.95238095 0.95238095 1.         1.         1.        ] mean_acc is  0.980952380952381\n"
          ]
        }
      ]
    },
    {
      "cell_type": "markdown",
      "source": [
        "##Advertising (Regression with KNN)\n",
        "\n",
        "Dataset: https://www.kaggle.com/datasets/ishaanv/ISLR-Auto"
      ],
      "metadata": {
        "id": "9fhztwJLaWzB"
      }
    },
    {
      "cell_type": "markdown",
      "source": [
        "# Downloading a file from Google Drive\n",
        "# The code utilizes the 'gdown' library to download a file from Google Drive.\n",
        "# The file to be downloaded is specified by its unique identifier '1Mso_Kr0tD2TSnfXfMeP0CNyNZqPK1drt'.\n",
        "# The 'gdown' library simplifies the process of downloading files from Google Drive.\n",
        "# The '!' at the beginning of the line indicates that the code is being executed in a shell or command prompt.\n",
        "\n",
        "2\n",
        "import pandas as pd"
      ],
      "metadata": {
        "id": "GFXyauWjZ7rt"
      }
    },
    {
      "cell_type": "code",
      "source": [
        "!gdown --id 1Mso_Kr0tD2TSnfXfMeP0CNyNZqPK1drt"
      ],
      "metadata": {
        "id": "X55DqFT9aWQO",
        "colab": {
          "base_uri": "https://localhost:8080/"
        },
        "outputId": "aa2b28a7-7160-4e17-e717-f087133e0e33"
      },
      "execution_count": null,
      "outputs": [
        {
          "output_type": "stream",
          "name": "stdout",
          "text": [
            "/usr/local/lib/python3.10/dist-packages/gdown/cli.py:121: FutureWarning: Option `--id` was deprecated in version 4.3.1 and will be removed in 5.0. You don't need to pass it anymore to use a file ID.\n",
            "  warnings.warn(\n",
            "Downloading...\n",
            "From: https://drive.google.com/uc?id=1Mso_Kr0tD2TSnfXfMeP0CNyNZqPK1drt\n",
            "To: /content/Advertising.csv\n",
            "100% 5.17k/5.17k [00:00<00:00, 19.5MB/s]\n"
          ]
        }
      ]
    },
    {
      "cell_type": "markdown",
      "source": [
        "```python\n",
        "# Importing the required libraries\n",
        "import pandas as pd\n",
        "\n",
        "# Reading the data from the 'Advertising.csv' file and storing it in a DataFrame called 'df'\n",
        "df = pd.read_csv('Advertising.csv')\n",
        "\n",
        "# Displaying the first two rows of the DataFrame 'df' to examine the data\n",
        "df.head(2)\n",
        "```\n",
        "\n",
        "This code snippet performs the following tasks:\n",
        "\n",
        "1. The `pandas` library is imported to leverage its functionality for data analysis and manipulation.\n",
        "\n",
        "2. The `read_csv()` function from the `pandas` library is used to read the data from the 'Advertising.csv' file. The data is then stored in a DataFrame called 'df'. The DataFrame is a two-dimensional tabular data structure provided by pandas to store and manipulate data.\n",
        "\n",
        "3. The `head()` method is called on the DataFrame 'df' with the argument `2`. This displays the first two rows of the DataFrame, allowing us to have a quick look at the data and verify its structure and contents.\n",
        "\n",
        "The code is important because it sets up the initial steps for data analysis by reading the data from a CSV file and loading it into a DataFrame. Displaying a subset of the data helps in understanding its format and the kind of information it contains. This initial exploration is crucial for further data preprocessing, analysis, and modeling tasks."
      ],
      "metadata": {
        "id": "e0Q-dr9JaG27"
      }
    },
    {
      "cell_type": "code",
      "source": [
        "df = pd.read_csv('Advertising.csv')\n",
        "df.head(2)"
      ],
      "metadata": {
        "id": "ZEucCXVlbH0Z",
        "colab": {
          "base_uri": "https://localhost:8080/",
          "height": 112
        },
        "outputId": "11a192c4-5704-4fb2-b6ab-9566ecd03a0d"
      },
      "execution_count": null,
      "outputs": [
        {
          "output_type": "execute_result",
          "data": {
            "text/plain": [
              "   Unnamed: 0     TV  Radio  Newspaper  Sales\n",
              "0           1  230.1   37.8       69.2   22.1\n",
              "1           2   44.5   39.3       45.1   10.4"
            ],
            "text/html": [
              "\n",
              "  <div id=\"df-173268fa-6fd5-439e-81fd-8959a54d7997\">\n",
              "    <div class=\"colab-df-container\">\n",
              "      <div>\n",
              "<style scoped>\n",
              "    .dataframe tbody tr th:only-of-type {\n",
              "        vertical-align: middle;\n",
              "    }\n",
              "\n",
              "    .dataframe tbody tr th {\n",
              "        vertical-align: top;\n",
              "    }\n",
              "\n",
              "    .dataframe thead th {\n",
              "        text-align: right;\n",
              "    }\n",
              "</style>\n",
              "<table border=\"1\" class=\"dataframe\">\n",
              "  <thead>\n",
              "    <tr style=\"text-align: right;\">\n",
              "      <th></th>\n",
              "      <th>Unnamed: 0</th>\n",
              "      <th>TV</th>\n",
              "      <th>Radio</th>\n",
              "      <th>Newspaper</th>\n",
              "      <th>Sales</th>\n",
              "    </tr>\n",
              "  </thead>\n",
              "  <tbody>\n",
              "    <tr>\n",
              "      <th>0</th>\n",
              "      <td>1</td>\n",
              "      <td>230.1</td>\n",
              "      <td>37.8</td>\n",
              "      <td>69.2</td>\n",
              "      <td>22.1</td>\n",
              "    </tr>\n",
              "    <tr>\n",
              "      <th>1</th>\n",
              "      <td>2</td>\n",
              "      <td>44.5</td>\n",
              "      <td>39.3</td>\n",
              "      <td>45.1</td>\n",
              "      <td>10.4</td>\n",
              "    </tr>\n",
              "  </tbody>\n",
              "</table>\n",
              "</div>\n",
              "      <button class=\"colab-df-convert\" onclick=\"convertToInteractive('df-173268fa-6fd5-439e-81fd-8959a54d7997')\"\n",
              "              title=\"Convert this dataframe to an interactive table.\"\n",
              "              style=\"display:none;\">\n",
              "        \n",
              "  <svg xmlns=\"http://www.w3.org/2000/svg\" height=\"24px\"viewBox=\"0 0 24 24\"\n",
              "       width=\"24px\">\n",
              "    <path d=\"M0 0h24v24H0V0z\" fill=\"none\"/>\n",
              "    <path d=\"M18.56 5.44l.94 2.06.94-2.06 2.06-.94-2.06-.94-.94-2.06-.94 2.06-2.06.94zm-11 1L8.5 8.5l.94-2.06 2.06-.94-2.06-.94L8.5 2.5l-.94 2.06-2.06.94zm10 10l.94 2.06.94-2.06 2.06-.94-2.06-.94-.94-2.06-.94 2.06-2.06.94z\"/><path d=\"M17.41 7.96l-1.37-1.37c-.4-.4-.92-.59-1.43-.59-.52 0-1.04.2-1.43.59L10.3 9.45l-7.72 7.72c-.78.78-.78 2.05 0 2.83L4 21.41c.39.39.9.59 1.41.59.51 0 1.02-.2 1.41-.59l7.78-7.78 2.81-2.81c.8-.78.8-2.07 0-2.86zM5.41 20L4 18.59l7.72-7.72 1.47 1.35L5.41 20z\"/>\n",
              "  </svg>\n",
              "      </button>\n",
              "      \n",
              "  <style>\n",
              "    .colab-df-container {\n",
              "      display:flex;\n",
              "      flex-wrap:wrap;\n",
              "      gap: 12px;\n",
              "    }\n",
              "\n",
              "    .colab-df-convert {\n",
              "      background-color: #E8F0FE;\n",
              "      border: none;\n",
              "      border-radius: 50%;\n",
              "      cursor: pointer;\n",
              "      display: none;\n",
              "      fill: #1967D2;\n",
              "      height: 32px;\n",
              "      padding: 0 0 0 0;\n",
              "      width: 32px;\n",
              "    }\n",
              "\n",
              "    .colab-df-convert:hover {\n",
              "      background-color: #E2EBFA;\n",
              "      box-shadow: 0px 1px 2px rgba(60, 64, 67, 0.3), 0px 1px 3px 1px rgba(60, 64, 67, 0.15);\n",
              "      fill: #174EA6;\n",
              "    }\n",
              "\n",
              "    [theme=dark] .colab-df-convert {\n",
              "      background-color: #3B4455;\n",
              "      fill: #D2E3FC;\n",
              "    }\n",
              "\n",
              "    [theme=dark] .colab-df-convert:hover {\n",
              "      background-color: #434B5C;\n",
              "      box-shadow: 0px 1px 3px 1px rgba(0, 0, 0, 0.15);\n",
              "      filter: drop-shadow(0px 1px 2px rgba(0, 0, 0, 0.3));\n",
              "      fill: #FFFFFF;\n",
              "    }\n",
              "  </style>\n",
              "\n",
              "      <script>\n",
              "        const buttonEl =\n",
              "          document.querySelector('#df-173268fa-6fd5-439e-81fd-8959a54d7997 button.colab-df-convert');\n",
              "        buttonEl.style.display =\n",
              "          google.colab.kernel.accessAllowed ? 'block' : 'none';\n",
              "\n",
              "        async function convertToInteractive(key) {\n",
              "          const element = document.querySelector('#df-173268fa-6fd5-439e-81fd-8959a54d7997');\n",
              "          const dataTable =\n",
              "            await google.colab.kernel.invokeFunction('convertToInteractive',\n",
              "                                                     [key], {});\n",
              "          if (!dataTable) return;\n",
              "\n",
              "          const docLinkHtml = 'Like what you see? Visit the ' +\n",
              "            '<a target=\"_blank\" href=https://colab.research.google.com/notebooks/data_table.ipynb>data table notebook</a>'\n",
              "            + ' to learn more about interactive tables.';\n",
              "          element.innerHTML = '';\n",
              "          dataTable['output_type'] = 'display_data';\n",
              "          await google.colab.output.renderOutput(dataTable, element);\n",
              "          const docLink = document.createElement('div');\n",
              "          docLink.innerHTML = docLinkHtml;\n",
              "          element.appendChild(docLink);\n",
              "        }\n",
              "      </script>\n",
              "    </div>\n",
              "  </div>\n",
              "  "
            ]
          },
          "metadata": {},
          "execution_count": 27
        }
      ]
    },
    {
      "cell_type": "markdown",
      "source": [
        "```python\n",
        "1\n",
        "2\n",
        "3\n",
        "4\n",
        "5\n",
        "6\n",
        "7\n",
        "8\n",
        "# Select variables and draw a scatter Plot \n",
        "\n",
        "# Selecting the predictor variable 'TV' and assigning its values to variable 'x'\n",
        "x = df[['TV']].values\n",
        "\n",
        "# Selecting the response variable 'Sales' and assigning its values to variable 'y'\n",
        "y = df['Sales'].values\n",
        "\n",
        "# Drawing a scatter plot using the selected variables\n",
        "plt.scatter(x, y)\n",
        "\n",
        "# Adding a label to the x-axis of the scatter plot\n",
        "plt.xlabel('TV budget in 1000$', fontsize=20)\n",
        "\n",
        "# Adding a label to the y-axis of the scatter plot\n",
        "plt.ylabel('Sales in 1000 units', fontsize=20)\n",
        "\n",
        "# Adding a title to the scatter plot\n",
        "plt.title('Scatter Plot', fontsize=25)\n",
        "```\n",
        "\n",
        "These lines of code are responsible for creating a scatter plot to visualize the relationship between the TV budget and sales data. Here's a breakdown of what each section does:\n",
        "\n",
        "- Line 1-8: These are comments providing an overview of the code section.\n",
        "\n",
        "- Line 3: The 'TV' column from the DataFrame 'df' is selected as the predictor variable and its values are assigned to the variable 'x'. The predictor variable is the independent variable that is used to predict the response variable.\n",
        "\n",
        "- Line 4: The 'Sales' column from the DataFrame 'df' is selected as the response variable and its values are assigned to the variable 'y'. The response variable is the dependent variable that we are trying to predict based on the predictor variable.\n",
        "\n",
        "- Line 7: A scatter plot is created using the 'x' and 'y' variables. A scatter plot is a graphical representation of the relationship between two variables, where each data point is represented by a dot on the graph.\n",
        "\n",
        "- Line 10: A label 'TV budget in 1000$' is added to the x-axis of the scatter plot. This provides a clear indication of the variable being represented on the x-axis.\n",
        "\n",
        "- Line 12: A label 'Sales in 1000 units' is added to the y-axis of the scatter plot. This provides a clear indication of the variable being represented on the y-axis.\n",
        "\n",
        "- Line 14: A title 'Scatter Plot' is added to the scatter plot. The title provides a descriptive summary of the purpose of the plot.\n",
        "\n",
        "Overall, these lines of code are essential for visualizing the relationship between the TV budget and sales data, helping to identify any potential patterns or trends."
      ],
      "metadata": {
        "id": "KogBTwliaVof"
      }
    },
    {
      "cell_type": "code",
      "source": [
        "# Select variables and draw a scatter Plot \n",
        "x = df[['TV']].values # predictor \n",
        "y = df['Sales'].values #response or output variable\n",
        "\n",
        "plt.scatter(x,y)\n",
        "plt.xlabel('TV budget in 1000$' ,fontsize=20)\n",
        "plt.ylabel('Sales in 1000 units',fontsize=20)\n",
        "plt.title('Scatter Plot',fontsize=25)"
      ],
      "metadata": {
        "id": "ViJCnuFkbVVw",
        "colab": {
          "base_uri": "https://localhost:8080/",
          "height": 516
        },
        "outputId": "1f26b58b-21ae-46ab-e02f-a320b17628f8"
      },
      "execution_count": null,
      "outputs": [
        {
          "output_type": "execute_result",
          "data": {
            "text/plain": [
              "Text(0.5, 1.0, 'Scatter Plot')"
            ]
          },
          "metadata": {},
          "execution_count": 29
        },
        {
          "output_type": "display_data",
          "data": {
            "text/plain": [
              "<Figure size 640x480 with 1 Axes>"
            ],
            "image/png": "[encoded data removed]"
          },
          "metadata": {}
        }
      ]
    },
    {
      "cell_type": "markdown",
      "source": [
        "# Split Data set\n",
        "# The code is responsible for splitting the dataset into training and testing sets.\n",
        "# x_train: This variable will hold the features (input) data for the training set.\n",
        "# x_test: This variable will hold the features (input) data for the testing set.\n",
        "# y_train: This variable will hold the target (output) data for the training set.\n",
        "# y_test: This variable will hold the target (output) data for the testing set.\n",
        "# The train_test_split function from the scikit-learn library is used for this purpose.\n",
        "# The 'x' and 'y' variables represent the entire dataset, where 'x' contains the features and 'y' contains the target values.\n",
        "# The test_size parameter is set to 0.3, indicating that 30% of the data will be used for testing, while 70% will be used for training."
      ],
      "metadata": {
        "id": "5LuIX-4ladEu"
      }
    },
    {
      "cell_type": "code",
      "source": [
        "#Split Data set \n",
        "x_train, x_test, y_train, y_test = train_test_split(x, y, test_size=0.3)"
      ],
      "metadata": {
        "id": "DsYOXpaHbreO"
      },
      "execution_count": null,
      "outputs": []
    },
    {
      "cell_type": "markdown",
      "source": [
        "Sure! Here's the code with descriptive comments explaining each section:\n",
        "\n",
        "```python\n",
        "import matplotlib.pyplot as plt\n",
        "import numpy as np\n",
        "from sklearn.neighbors import KNeighborsRegressor\n",
        "from sklearn.metrics import mean_squared_error\n",
        "\n",
        "# Creating a figure and axes for the plot\n",
        "fig, ax = plt.subplots(figsize=(10, 10))\n",
        "\n",
        "# Creating a list of k values from 1 to 80 with a step of 1\n",
        "k_list = np.arange(1, 80, 1)\n",
        "\n",
        "# Dictionary to store k values and corresponding mean squared error (mse) values\n",
        "knn_dict = {}\n",
        "\n",
        "# Looping through each k value\n",
        "for i in k_list:\n",
        "    # Creating a KNN model with current k value\n",
        "    knn = KNeighborsRegressor(n_neighbors=int(i))\n",
        "    model_knn = knn.fit(x_train, y_train)  # Fitting the model with training data\n",
        "    y_knn_pred = model_knn.predict(x_test)  # Predicting target variable using the test data\n",
        "    \n",
        "    # Calculating mean squared error (mse)\n",
        "    mse = mean_squared_error(y_test, y_knn_pred)\n",
        "    \n",
        "    # Storing the mse value in the dictionary with corresponding k value\n",
        "    knn_dict[i] = mse\n",
        "\n",
        "# Plotting the results\n",
        "ax.plot(np.array(list(knn_dict.keys())).astype(float), np.array(list(knn_dict.values())).astype(float))\n",
        "\n",
        "# Setting labels for the x and y axes\n",
        "ax.set_xlabel('K-VALUE', fontsize=20)\n",
        "ax.set_ylabel('MSE', fontsize=20)\n",
        "\n",
        "# Setting the title of the plot\n",
        "ax.set_title('ELBOW PLOT', fontsize=28)\n",
        "```\n",
        "\n",
        "This code performs the following steps:\n",
        "\n",
        "1. Importing necessary libraries for plotting (`matplotlib.pyplot`), numerical operations (`numpy`), and machine learning models (`KNeighborsRegressor` from `sklearn.neighbors`) and evaluation metrics (`mean_squared_error` from `sklearn.metrics`).\n",
        "\n",
        "2. Creating a figure and axes for the plot using `plt.subplots()`. The `figsize` parameter specifies the size of the plot.\n",
        "\n",
        "3. Defining a list `k_list` containing the values of `k` from 1 to 80 with a step of 1. These values represent the number of neighbors used in the KNN model.\n",
        "\n",
        "4. Creating an empty dictionary `knn_dict` to store the `k` values and their corresponding mean squared error (mse) values.\n",
        "\n",
        "5. Starting a loop to iterate over each `k` value in the `k_list`.\n",
        "\n",
        "6. Inside the loop, creating a KNN model with the current `k` value using `KNeighborsRegressor` class. The `n_neighbors` parameter is set to the current `k` value.\n",
        "\n",
        "7. Fitting the KNN model with the training data (`x_train` and `y_train`) using the `fit()` method.\n",
        "\n",
        "8. Predicting the target variable (`y_knn_pred`) using the test data (`x_test`) with the `predict()` method.\n",
        "\n",
        "9. Calculating the mean squared error (mse) between the predicted `y` values and the actual `y` values using the `mean_squared_error()` function.\n",
        "\n",
        "10. Storing the mse value in the `knn_dict` dictionary with the corresponding `k` value as the key.\n",
        "\n",
        "11. After the loop, plotting the `k` values on the x-axis and the mse values on the y-axis using `ax.plot()`.\n",
        "\n",
        "12. Setting the x-axis label as \"K-VALUE\" with a font size of 20.\n",
        "\n",
        "13. Setting the y-axis label as \"MSE\" with a font size of 20.\n",
        "\n",
        "14. Setting the title of the plot as \"ELBOW PLOT\" with a"
      ],
      "metadata": {
        "id": "OKzmSpiFbDnV"
      }
    },
    {
      "cell_type": "code",
      "source": [
        "fig, ax = plt.subplots(figsize=(10,10))\n",
        "k_list = np.arange(1,80,1)\n",
        "knn_dict = {} # To store k and mse pairs\n",
        "for i in k_list:\n",
        "#Knn Model Creation\n",
        "    knn = KNeighborsRegressor(n_neighbors=int(i))\n",
        "    model_knn = knn.fit(x_train, y_train)\n",
        "    y_knn_pred = model_knn.predict(x_test)\n",
        "#Storing MSE \n",
        "    mse = mean_squared_error(y_test,y_knn_pred)\n",
        "    knn_dict[i] = mse\n",
        "#Plotting the results\n",
        "ax.plot(np.array(list(knn_dict.keys())).astype(float), np.array(list(knn_dict.values())).astype(float))\n",
        "ax.set_xlabel('K-VALUE', fontsize=20)\n",
        "ax.set_ylabel('MSE', fontsize=20)\n",
        "ax.set_title('ELBOW PLOT', fontsize=28)"
      ],
      "metadata": {
        "id": "_wtMMWBWbyik",
        "colab": {
          "base_uri": "https://localhost:8080/",
          "height": 919
        },
        "outputId": "cd9a6dca-2b60-48f5-c85a-e90b21ff6ae3"
      },
      "execution_count": null,
      "outputs": [
        {
          "output_type": "execute_result",
          "data": {
            "text/plain": [
              "Text(0.5, 1.0, 'ELBOW PLOT')"
            ]
          },
          "metadata": {},
          "execution_count": 32
        },
        {
          "output_type": "display_data",
          "data": {
            "text/plain": [
              "<Figure size 1000x1000 with 1 Axes>"
            ],
            "image/png": "[encoded data removed]"
          },
          "metadata": {}
        }
      ]
    },
    {
      "cell_type": "markdown",
      "source": [
        "# Calculating the mean squared error (MSE) between the predicted values (y_knn_pred) and the actual values (y_test).\n",
        "# The MSE is a commonly used metric to evaluate the performance of regression models.\n",
        "# It measures the average squared difference between the predicted and actual values.\n",
        "# The lower the MSE, the better the model's predictions align with the actual values.\n",
        "\n",
        "2\n",
        "classification_report(y_test, y_svm_pred)"
      ],
      "metadata": {
        "id": "Pp7xCyiXcj6M"
      }
    },
    {
      "cell_type": "code",
      "source": [
        "mean_squared_error(y_test, y_knn_pred)"
      ],
      "metadata": {
        "id": "afRB0JzGcP7K",
        "colab": {
          "base_uri": "https://localhost:8080/"
        },
        "outputId": "6a9278dd-af59-406d-b176-14cebe86a0a6"
      },
      "execution_count": null,
      "outputs": [
        {
          "output_type": "execute_result",
          "data": {
            "text/plain": [
              "11.31644771137104"
            ]
          },
          "metadata": {},
          "execution_count": 33
        }
      ]
    },
    {
      "cell_type": "code",
      "source": [
        "from google.colab import drive\n",
        "drive.mount('/content/drive')"
      ],
      "metadata": {
        "id": "juvp_OtHmJub"
      },
      "execution_count": null,
      "outputs": []
    },
    {
      "cell_type": "markdown",
      "source": [
        "```python\n",
        "# Set the number of neighbors to consider\n",
        "# k = 16\n",
        "knn = KNeighborsRegressor(n_neighbors=16)\n",
        "\n",
        "# Fit the K-Nearest Neighbors model to the training data\n",
        "model_knn = knn.fit(x_train, y_train)\n",
        "\n",
        "# Make predictions using the trained model on the test data\n",
        "y_knn_pred = model_knn.predict(x_test)\n",
        "```\n",
        "\n",
        "Comments:\n",
        "1. Set the number of neighbors to consider: In this line, the value of `k` is set to 16, which determines the number of neighbors to be used in the K-Nearest Neighbors algorithm. The choice of `k` is important as it affects the model's performance and can impact the balance between bias and variance.\n",
        "2. Create a KNeighborsRegressor object: Here, an instance of the `KNeighborsRegressor` class is created. This class is a regression version of the K-Nearest Neighbors algorithm, which uses the average of the nearest neighbors' target values to make predictions.\n",
        "3. Fit the K-Nearest Neighbors model: The `fit` method is called on the KNeighborsRegressor object to train the model. It takes the training data `x_train` (input features) and `y_train` (target values) as arguments and adjusts the model's parameters to find the best fit for the given data.\n",
        "4. Make predictions using the trained model: The `predict` method is used on the trained model to generate predictions for the test data `x_test`. The predicted values are assigned to the variable `y_knn_pred`, which represents the model's output for the given input features.\n",
        "\n",
        "This code snippet sets up and trains a K-Nearest Neighbors regression model, allowing it to make predictions on unseen data. The choice of `k` and the fitting process are important for determining the model's performance, while the prediction step provides the model's output for the test data."
      ],
      "metadata": {
        "id": "8kPh3FJgcsmU"
      }
    },
    {
      "cell_type": "code",
      "source": [
        "#k = 16\n",
        "knn = KNeighborsRegressor(n_neighbors=16)\n",
        "model_knn = knn.fit(x_train, y_train)\n",
        "y_knn_pred = model_knn.predict(x_test)"
      ],
      "metadata": {
        "id": "kchR9GPp2dTE"
      },
      "execution_count": null,
      "outputs": []
    },
    {
      "cell_type": "markdown",
      "source": [
        "# Calculate the R-squared score of the predicted values compared to the actual values\n",
        "# The R-squared score measures the proportion of the variance in the dependent variable that is predictable from the independent variables\n",
        "# It provides an indication of how well the predicted values fit the actual values\n",
        "# The higher the R-squared score, the better the fit of the model\n",
        "\n",
        "2\n",
        "knn = KNeighborsRegressor(n_neighbors=5)\n",
        "knn.fit(X_train, y_train)\n",
        "y_knn_pred = knn.predict(X_test)"
      ],
      "metadata": {
        "id": "Z0lf-eoncyIO"
      }
    },
    {
      "cell_type": "code",
      "source": [
        "r2_score(y_test, y_knn_pred)"
      ],
      "metadata": {
        "colab": {
          "base_uri": "https://localhost:8080/"
        },
        "id": "q7vAGFOd2WVs",
        "outputId": "865cb9ad-0b1f-4185-fb55-3ff67128e293"
      },
      "execution_count": null,
      "outputs": [
        {
          "output_type": "execute_result",
          "data": {
            "text/plain": [
              "0.5581931090341028"
            ]
          },
          "metadata": {},
          "execution_count": 35
        }
      ]
    }
  ],
  "metadata": {
    "colab": {
      "provenance": []
    },
    "kernelspec": {
      "display_name": "Python 3",
      "name": "python3"
    }
  },
  "nbformat": 4,
  "nbformat_minor": 0
}